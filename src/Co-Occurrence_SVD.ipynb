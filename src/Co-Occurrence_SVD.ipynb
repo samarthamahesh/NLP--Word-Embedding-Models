{
  "nbformat": 4,
  "nbformat_minor": 0,
  "metadata": {
    "colab": {
      "name": "(Q1) NLP Assignment 1",
      "provenance": [],
      "collapsed_sections": []
    },
    "kernelspec": {
      "display_name": "Python 3",
      "name": "python3"
    },
    "language_info": {
      "name": "python"
    }
  },
  "cells": [
    {
      "cell_type": "code",
      "metadata": {
        "colab": {
          "base_uri": "https://localhost:8080/"
        },
        "id": "AxNrAaDIRZ0I",
        "outputId": "f858821e-b895-4222-d76a-28107f0ef1a4"
      },
      "source": [
        "from google.colab import drive\n",
        "drive.mount('/content/drive')"
      ],
      "execution_count": 1,
      "outputs": [
        {
          "output_type": "stream",
          "name": "stdout",
          "text": [
            "Mounted at /content/drive\n"
          ]
        }
      ]
    },
    {
      "cell_type": "markdown",
      "metadata": {
        "id": "ecEfCW-1BiHc"
      },
      "source": [
        "# Import libraries"
      ]
    },
    {
      "cell_type": "code",
      "metadata": {
        "colab": {
          "base_uri": "https://localhost:8080/"
        },
        "id": "tmgvUhwiL8zU",
        "outputId": "abf4d7c9-2e27-467f-ab14-e7ed58745bf5"
      },
      "source": [
        "import gensim\n",
        "import numpy as np\n",
        "import json\n",
        "import re\n",
        "from scipy.sparse import csr_matrix\n",
        "from scipy.sparse.linalg import svds, eigs\n",
        "import torch\n",
        "\n",
        "from sklearn.manifold import TSNE\n",
        "import matplotlib.pyplot as plt\n",
        "import matplotlib.cm as cm\n",
        "% matplotlib inline\n",
        "\n",
        "!pip install nltk==3.6.2\n",
        "import nltk\n",
        "from nltk import ngrams\n",
        "from nltk.tokenize import sent_tokenize, word_tokenize\n",
        "nltk.download('punkt')"
      ],
      "execution_count": 10,
      "outputs": [
        {
          "output_type": "stream",
          "name": "stdout",
          "text": [
            "Collecting nltk==3.6.2\n",
            "  Downloading nltk-3.6.2-py3-none-any.whl (1.5 MB)\n",
            "\u001b[?25l\r\u001b[K     |▎                               | 10 kB 19.4 MB/s eta 0:00:01\r\u001b[K     |▌                               | 20 kB 22.4 MB/s eta 0:00:01\r\u001b[K     |▊                               | 30 kB 26.5 MB/s eta 0:00:01\r\u001b[K     |█                               | 40 kB 30.1 MB/s eta 0:00:01\r\u001b[K     |█▏                              | 51 kB 11.1 MB/s eta 0:00:01\r\u001b[K     |█▍                              | 61 kB 12.4 MB/s eta 0:00:01\r\u001b[K     |█▋                              | 71 kB 8.4 MB/s eta 0:00:01\r\u001b[K     |█▉                              | 81 kB 9.3 MB/s eta 0:00:01\r\u001b[K     |██                              | 92 kB 8.4 MB/s eta 0:00:01\r\u001b[K     |██▎                             | 102 kB 8.9 MB/s eta 0:00:01\r\u001b[K     |██▌                             | 112 kB 8.9 MB/s eta 0:00:01\r\u001b[K     |██▊                             | 122 kB 8.9 MB/s eta 0:00:01\r\u001b[K     |███                             | 133 kB 8.9 MB/s eta 0:00:01\r\u001b[K     |███▏                            | 143 kB 8.9 MB/s eta 0:00:01\r\u001b[K     |███▍                            | 153 kB 8.9 MB/s eta 0:00:01\r\u001b[K     |███▋                            | 163 kB 8.9 MB/s eta 0:00:01\r\u001b[K     |███▉                            | 174 kB 8.9 MB/s eta 0:00:01\r\u001b[K     |████                            | 184 kB 8.9 MB/s eta 0:00:01\r\u001b[K     |████▎                           | 194 kB 8.9 MB/s eta 0:00:01\r\u001b[K     |████▌                           | 204 kB 8.9 MB/s eta 0:00:01\r\u001b[K     |████▊                           | 215 kB 8.9 MB/s eta 0:00:01\r\u001b[K     |█████                           | 225 kB 8.9 MB/s eta 0:00:01\r\u001b[K     |█████▏                          | 235 kB 8.9 MB/s eta 0:00:01\r\u001b[K     |█████▍                          | 245 kB 8.9 MB/s eta 0:00:01\r\u001b[K     |█████▋                          | 256 kB 8.9 MB/s eta 0:00:01\r\u001b[K     |█████▉                          | 266 kB 8.9 MB/s eta 0:00:01\r\u001b[K     |██████                          | 276 kB 8.9 MB/s eta 0:00:01\r\u001b[K     |██████▎                         | 286 kB 8.9 MB/s eta 0:00:01\r\u001b[K     |██████▌                         | 296 kB 8.9 MB/s eta 0:00:01\r\u001b[K     |██████▊                         | 307 kB 8.9 MB/s eta 0:00:01\r\u001b[K     |███████                         | 317 kB 8.9 MB/s eta 0:00:01\r\u001b[K     |███████▏                        | 327 kB 8.9 MB/s eta 0:00:01\r\u001b[K     |███████▍                        | 337 kB 8.9 MB/s eta 0:00:01\r\u001b[K     |███████▊                        | 348 kB 8.9 MB/s eta 0:00:01\r\u001b[K     |████████                        | 358 kB 8.9 MB/s eta 0:00:01\r\u001b[K     |████████▏                       | 368 kB 8.9 MB/s eta 0:00:01\r\u001b[K     |████████▍                       | 378 kB 8.9 MB/s eta 0:00:01\r\u001b[K     |████████▋                       | 389 kB 8.9 MB/s eta 0:00:01\r\u001b[K     |████████▉                       | 399 kB 8.9 MB/s eta 0:00:01\r\u001b[K     |█████████                       | 409 kB 8.9 MB/s eta 0:00:01\r\u001b[K     |█████████▎                      | 419 kB 8.9 MB/s eta 0:00:01\r\u001b[K     |█████████▌                      | 430 kB 8.9 MB/s eta 0:00:01\r\u001b[K     |█████████▊                      | 440 kB 8.9 MB/s eta 0:00:01\r\u001b[K     |██████████                      | 450 kB 8.9 MB/s eta 0:00:01\r\u001b[K     |██████████▏                     | 460 kB 8.9 MB/s eta 0:00:01\r\u001b[K     |██████████▍                     | 471 kB 8.9 MB/s eta 0:00:01\r\u001b[K     |██████████▋                     | 481 kB 8.9 MB/s eta 0:00:01\r\u001b[K     |██████████▉                     | 491 kB 8.9 MB/s eta 0:00:01\r\u001b[K     |███████████                     | 501 kB 8.9 MB/s eta 0:00:01\r\u001b[K     |███████████▎                    | 512 kB 8.9 MB/s eta 0:00:01\r\u001b[K     |███████████▌                    | 522 kB 8.9 MB/s eta 0:00:01\r\u001b[K     |███████████▊                    | 532 kB 8.9 MB/s eta 0:00:01\r\u001b[K     |████████████                    | 542 kB 8.9 MB/s eta 0:00:01\r\u001b[K     |████████████▏                   | 552 kB 8.9 MB/s eta 0:00:01\r\u001b[K     |████████████▍                   | 563 kB 8.9 MB/s eta 0:00:01\r\u001b[K     |████████████▋                   | 573 kB 8.9 MB/s eta 0:00:01\r\u001b[K     |████████████▉                   | 583 kB 8.9 MB/s eta 0:00:01\r\u001b[K     |█████████████                   | 593 kB 8.9 MB/s eta 0:00:01\r\u001b[K     |█████████████▎                  | 604 kB 8.9 MB/s eta 0:00:01\r\u001b[K     |█████████████▌                  | 614 kB 8.9 MB/s eta 0:00:01\r\u001b[K     |█████████████▊                  | 624 kB 8.9 MB/s eta 0:00:01\r\u001b[K     |██████████████                  | 634 kB 8.9 MB/s eta 0:00:01\r\u001b[K     |██████████████▏                 | 645 kB 8.9 MB/s eta 0:00:01\r\u001b[K     |██████████████▍                 | 655 kB 8.9 MB/s eta 0:00:01\r\u001b[K     |██████████████▋                 | 665 kB 8.9 MB/s eta 0:00:01\r\u001b[K     |██████████████▉                 | 675 kB 8.9 MB/s eta 0:00:01\r\u001b[K     |███████████████▏                | 686 kB 8.9 MB/s eta 0:00:01\r\u001b[K     |███████████████▍                | 696 kB 8.9 MB/s eta 0:00:01\r\u001b[K     |███████████████▋                | 706 kB 8.9 MB/s eta 0:00:01\r\u001b[K     |███████████████▉                | 716 kB 8.9 MB/s eta 0:00:01\r\u001b[K     |████████████████                | 727 kB 8.9 MB/s eta 0:00:01\r\u001b[K     |████████████████▎               | 737 kB 8.9 MB/s eta 0:00:01\r\u001b[K     |████████████████▌               | 747 kB 8.9 MB/s eta 0:00:01\r\u001b[K     |████████████████▊               | 757 kB 8.9 MB/s eta 0:00:01\r\u001b[K     |█████████████████               | 768 kB 8.9 MB/s eta 0:00:01\r\u001b[K     |█████████████████▏              | 778 kB 8.9 MB/s eta 0:00:01\r\u001b[K     |█████████████████▍              | 788 kB 8.9 MB/s eta 0:00:01\r\u001b[K     |█████████████████▋              | 798 kB 8.9 MB/s eta 0:00:01\r\u001b[K     |█████████████████▉              | 808 kB 8.9 MB/s eta 0:00:01\r\u001b[K     |██████████████████              | 819 kB 8.9 MB/s eta 0:00:01\r\u001b[K     |██████████████████▎             | 829 kB 8.9 MB/s eta 0:00:01\r\u001b[K     |██████████████████▌             | 839 kB 8.9 MB/s eta 0:00:01\r\u001b[K     |██████████████████▊             | 849 kB 8.9 MB/s eta 0:00:01\r\u001b[K     |███████████████████             | 860 kB 8.9 MB/s eta 0:00:01\r\u001b[K     |███████████████████▏            | 870 kB 8.9 MB/s eta 0:00:01\r\u001b[K     |███████████████████▍            | 880 kB 8.9 MB/s eta 0:00:01\r\u001b[K     |███████████████████▋            | 890 kB 8.9 MB/s eta 0:00:01\r\u001b[K     |███████████████████▉            | 901 kB 8.9 MB/s eta 0:00:01\r\u001b[K     |████████████████████            | 911 kB 8.9 MB/s eta 0:00:01\r\u001b[K     |████████████████████▎           | 921 kB 8.9 MB/s eta 0:00:01\r\u001b[K     |████████████████████▌           | 931 kB 8.9 MB/s eta 0:00:01\r\u001b[K     |████████████████████▊           | 942 kB 8.9 MB/s eta 0:00:01\r\u001b[K     |█████████████████████           | 952 kB 8.9 MB/s eta 0:00:01\r\u001b[K     |█████████████████████▏          | 962 kB 8.9 MB/s eta 0:00:01\r\u001b[K     |█████████████████████▍          | 972 kB 8.9 MB/s eta 0:00:01\r\u001b[K     |█████████████████████▋          | 983 kB 8.9 MB/s eta 0:00:01\r\u001b[K     |█████████████████████▉          | 993 kB 8.9 MB/s eta 0:00:01\r\u001b[K     |██████████████████████          | 1.0 MB 8.9 MB/s eta 0:00:01\r\u001b[K     |██████████████████████▎         | 1.0 MB 8.9 MB/s eta 0:00:01\r\u001b[K     |██████████████████████▌         | 1.0 MB 8.9 MB/s eta 0:00:01\r\u001b[K     |██████████████████████▉         | 1.0 MB 8.9 MB/s eta 0:00:01\r\u001b[K     |███████████████████████         | 1.0 MB 8.9 MB/s eta 0:00:01\r\u001b[K     |███████████████████████▎        | 1.1 MB 8.9 MB/s eta 0:00:01\r\u001b[K     |███████████████████████▌        | 1.1 MB 8.9 MB/s eta 0:00:01\r\u001b[K     |███████████████████████▊        | 1.1 MB 8.9 MB/s eta 0:00:01\r\u001b[K     |████████████████████████        | 1.1 MB 8.9 MB/s eta 0:00:01\r\u001b[K     |████████████████████████▏       | 1.1 MB 8.9 MB/s eta 0:00:01\r\u001b[K     |████████████████████████▍       | 1.1 MB 8.9 MB/s eta 0:00:01\r\u001b[K     |████████████████████████▋       | 1.1 MB 8.9 MB/s eta 0:00:01\r\u001b[K     |████████████████████████▉       | 1.1 MB 8.9 MB/s eta 0:00:01\r\u001b[K     |█████████████████████████       | 1.1 MB 8.9 MB/s eta 0:00:01\r\u001b[K     |█████████████████████████▎      | 1.1 MB 8.9 MB/s eta 0:00:01\r\u001b[K     |█████████████████████████▌      | 1.2 MB 8.9 MB/s eta 0:00:01\r\u001b[K     |█████████████████████████▊      | 1.2 MB 8.9 MB/s eta 0:00:01\r\u001b[K     |██████████████████████████      | 1.2 MB 8.9 MB/s eta 0:00:01\r\u001b[K     |██████████████████████████▏     | 1.2 MB 8.9 MB/s eta 0:00:01\r\u001b[K     |██████████████████████████▍     | 1.2 MB 8.9 MB/s eta 0:00:01\r\u001b[K     |██████████████████████████▋     | 1.2 MB 8.9 MB/s eta 0:00:01\r\u001b[K     |██████████████████████████▉     | 1.2 MB 8.9 MB/s eta 0:00:01\r\u001b[K     |███████████████████████████     | 1.2 MB 8.9 MB/s eta 0:00:01\r\u001b[K     |███████████████████████████▎    | 1.2 MB 8.9 MB/s eta 0:00:01\r\u001b[K     |███████████████████████████▌    | 1.2 MB 8.9 MB/s eta 0:00:01\r\u001b[K     |███████████████████████████▊    | 1.3 MB 8.9 MB/s eta 0:00:01\r\u001b[K     |████████████████████████████    | 1.3 MB 8.9 MB/s eta 0:00:01\r\u001b[K     |████████████████████████████▏   | 1.3 MB 8.9 MB/s eta 0:00:01\r\u001b[K     |████████████████████████████▍   | 1.3 MB 8.9 MB/s eta 0:00:01\r\u001b[K     |████████████████████████████▋   | 1.3 MB 8.9 MB/s eta 0:00:01\r\u001b[K     |████████████████████████████▉   | 1.3 MB 8.9 MB/s eta 0:00:01\r\u001b[K     |█████████████████████████████   | 1.3 MB 8.9 MB/s eta 0:00:01\r\u001b[K     |█████████████████████████████▎  | 1.3 MB 8.9 MB/s eta 0:00:01\r\u001b[K     |█████████████████████████████▌  | 1.3 MB 8.9 MB/s eta 0:00:01\r\u001b[K     |█████████████████████████████▊  | 1.4 MB 8.9 MB/s eta 0:00:01\r\u001b[K     |██████████████████████████████  | 1.4 MB 8.9 MB/s eta 0:00:01\r\u001b[K     |██████████████████████████████▎ | 1.4 MB 8.9 MB/s eta 0:00:01\r\u001b[K     |██████████████████████████████▌ | 1.4 MB 8.9 MB/s eta 0:00:01\r\u001b[K     |██████████████████████████████▊ | 1.4 MB 8.9 MB/s eta 0:00:01\r\u001b[K     |███████████████████████████████ | 1.4 MB 8.9 MB/s eta 0:00:01\r\u001b[K     |███████████████████████████████▏| 1.4 MB 8.9 MB/s eta 0:00:01\r\u001b[K     |███████████████████████████████▍| 1.4 MB 8.9 MB/s eta 0:00:01\r\u001b[K     |███████████████████████████████▋| 1.4 MB 8.9 MB/s eta 0:00:01\r\u001b[K     |███████████████████████████████▉| 1.4 MB 8.9 MB/s eta 0:00:01\r\u001b[K     |████████████████████████████████| 1.5 MB 8.9 MB/s \n",
            "\u001b[?25hRequirement already satisfied: joblib in /usr/local/lib/python3.7/dist-packages (from nltk==3.6.2) (1.0.1)\n",
            "Requirement already satisfied: tqdm in /usr/local/lib/python3.7/dist-packages (from nltk==3.6.2) (4.62.2)\n",
            "Requirement already satisfied: regex in /usr/local/lib/python3.7/dist-packages (from nltk==3.6.2) (2019.12.20)\n",
            "Requirement already satisfied: click in /usr/local/lib/python3.7/dist-packages (from nltk==3.6.2) (7.1.2)\n",
            "Installing collected packages: nltk\n",
            "  Attempting uninstall: nltk\n",
            "    Found existing installation: nltk 3.2.5\n",
            "    Uninstalling nltk-3.2.5:\n",
            "      Successfully uninstalled nltk-3.2.5\n",
            "Successfully installed nltk-3.6.2\n"
          ]
        },
        {
          "output_type": "stream",
          "name": "stderr",
          "text": [
            "[nltk_data] Downloading package punkt to /root/nltk_data...\n",
            "[nltk_data]   Unzipping tokenizers/punkt.zip.\n"
          ]
        },
        {
          "output_type": "execute_result",
          "data": {
            "text/plain": [
              "True"
            ]
          },
          "metadata": {},
          "execution_count": 10
        }
      ]
    },
    {
      "cell_type": "code",
      "metadata": {
        "id": "9Vo2TkylpZ8M",
        "colab": {
          "base_uri": "https://localhost:8080/"
        },
        "outputId": "985e9216-3647-45c3-8093-e042648edaa8"
      },
      "source": [
        "print(nltk.__version__)"
      ],
      "execution_count": null,
      "outputs": [
        {
          "output_type": "stream",
          "name": "stdout",
          "text": [
            "3.6.2\n"
          ]
        }
      ]
    },
    {
      "cell_type": "code",
      "metadata": {
        "id": "-NXbt2xTOlxE"
      },
      "source": [
        "PATH = \"/content/drive/MyDrive/NLP/Assignment-1/Dataset/Electronics_5.json\"\n",
        "model_path = \"/content/drive/MyDrive/NLP/Assignment-1/outputs/Q1/model.pt\"\n",
        "vocab_path = \"/content/drive/MyDrive/NLP/Assignment-1/outputs/Q1/vocab.pt\"\n",
        "embed_path = \"/content/drive/MyDrive/NLP/Assignment-1/outputs/Q1/embed.npy\"\n",
        "plot_path  = \"/content/drive/MyDrive/NLP/Assignment-1/outputs/Q1/plot.png\""
      ],
      "execution_count": 12,
      "outputs": []
    },
    {
      "cell_type": "markdown",
      "metadata": {
        "id": "ztgYrgcFMSSe"
      },
      "source": [
        "# 16,89,188 review paras"
      ]
    },
    {
      "cell_type": "code",
      "metadata": {
        "id": "2IpdnPDI7qms"
      },
      "source": [
        "class Sentence():\n",
        "    '''\n",
        "    Sentence Generator class\n",
        "    '''\n",
        "\n",
        "    # Init method - initialize object with corpus file path\n",
        "    def __init__(self, PATH):\n",
        "        self.PATH = PATH\n",
        "\n",
        "    # Method to preprocess the sentence\n",
        "    def preprocess(self, sentence):\n",
        "        if not sentence.isspace():\n",
        "            return re.sub(\"[^a-zA-Z0-9 ]\", \" \", sentence).lower().strip()\n",
        "\n",
        "    # Generator method - yields one sentence at a time\n",
        "    def __iter__(self):\n",
        "        for i, line in enumerate(open(self.PATH)):\n",
        "            para = json.loads(line)['reviewText']\n",
        "            for sent in sent_tokenize(para):\n",
        "                yield ['SOS'] + self.preprocess(sent).split() + ['EOS']\n",
        "\n",
        "\n",
        "class Vocabulary():\n",
        "    '''\n",
        "    Vocabulary class\n",
        "    '''\n",
        "\n",
        "    # Init method - initialize object with various mappings\n",
        "    def __init__(self, sentences, freqlimit):\n",
        "        self.word2ind = {\n",
        "            'UNK': 0,\n",
        "            'SOS': 1,\n",
        "            'EOS': 2\n",
        "        }\n",
        "        self.ind2word = {\n",
        "            0: 'UNK',\n",
        "            1: 'SOS',\n",
        "            2: 'EOS'\n",
        "        }\n",
        "        self.word2freq = {\n",
        "            'UNK': 0,\n",
        "            'SOS': 0,\n",
        "            'EOS': 0\n",
        "        }\n",
        "        self.vocabsize = 3\n",
        "\n",
        "        self.add_corpus(sentences)\n",
        "        self.delete_low_freq(freqlimit)\n",
        "        self.prepare_vocab()\n",
        "\n",
        "    # Method to iteratively add corpus sentences\n",
        "    def add_corpus(self, sentences):\n",
        "        for sent in sentences:\n",
        "            for word in sent:\n",
        "                self.add_word(word)\n",
        "\n",
        "    # Method to add word into frequency mapping\n",
        "    def add_word(self, word):\n",
        "        if word not in self.word2freq:\n",
        "            self.word2freq[word] = 1\n",
        "        else:\n",
        "            self.word2freq[word] += 1\n",
        "\n",
        "    # Method to delete low frequency words from frequency mapping\n",
        "    def delete_low_freq(self, freqlimit):\n",
        "        delete_keys = [key for key in self.word2freq if self.word2freq[key] < freqlimit]\n",
        "\n",
        "        for key in delete_keys:\n",
        "            del self.word2freq[key]\n",
        "\n",
        "    # Method to prepare vocabulary with word2ind and ind2word mappings\n",
        "    def prepare_vocab(self):\n",
        "        for word in self.word2freq:\n",
        "            if word not in self.word2ind:\n",
        "                self.word2ind[word] = self.vocabsize\n",
        "                self.ind2word[self.vocabsize] = word\n",
        "                self.vocabsize += 1\n",
        "\n",
        "    # Getter method - return integer mapping of input word\n",
        "    def get_ind(self, word):\n",
        "        if word not in self.word2ind:\n",
        "            return self.word2ind['UNK']\n",
        "        return self.word2ind[word]\n",
        "\n",
        "    # Getter method - return word corresponding to input integer\n",
        "    def get_word(self, ind):\n",
        "        if ind not in self.ind2word:\n",
        "            return self.ind2word[0]\n",
        "        return self.ind2word[ind]\n",
        "\n",
        "    # Getter method - return frequency of the input word\n",
        "    def get_freq(self, word):\n",
        "        if word not in self.word2freq:\n",
        "            return self.word2freq['UNK']\n",
        "        return self.word2freq[word]"
      ],
      "execution_count": 3,
      "outputs": []
    },
    {
      "cell_type": "code",
      "metadata": {
        "id": "UNGsIaH07Zo-"
      },
      "source": [
        "sentences = Sentence(PATH)\n",
        "Vocab = Vocabulary(sentences, 5)"
      ],
      "execution_count": null,
      "outputs": []
    },
    {
      "cell_type": "markdown",
      "metadata": {
        "id": "75pXZwWUPbQ8"
      },
      "source": [
        "# 5,11,595 words in vocab"
      ]
    },
    {
      "cell_type": "code",
      "metadata": {
        "id": "LzmEPY1B2zJM"
      },
      "source": [
        "class WordEmbedModel():\n",
        "    '''\n",
        "    Word Embedding Model class\n",
        "    '''\n",
        "\n",
        "    # Init method - initialize object with context window size and embedding size\n",
        "    def __init__(self, context_size, embed_size, vocab):\n",
        "        self.context_size = context_size\n",
        "        self.embed_size = embed_size\n",
        "        self.vocab = vocab\n",
        "        self.embeddings = []\n",
        "\n",
        "    # Method to train the model (SVD on Co-Occurrence matrix)\n",
        "    def train(self, sentences):\n",
        "        print(\"Starting training\")\n",
        "\n",
        "        map = self.prepare_map(sentences)\n",
        "        print(\"Mapping completed\")\n",
        "\n",
        "        row_ind = []\n",
        "        col_ind = []\n",
        "        data = []\n",
        "\n",
        "        print(\"Preparing co-ocuurence matrix indices\")\n",
        "        while map:\n",
        "            rword, tmp = map.popitem()\n",
        "            for cword in tmp:\n",
        "                row_ind.append(self.vocab.get_ind(rword))\n",
        "                col_ind.append(self.vocab.get_ind(cword))\n",
        "                data.append(tmp[cword])\n",
        "\n",
        "        print(\"Preparing co-occurence matrix\")\n",
        "        co_occur = csr_matrix((data, (row_ind, col_ind)), shape=(self.vocab.vocabsize, self.vocab.vocabsize), dtype=float)\n",
        "        \n",
        "        del row_ind\n",
        "        del col_ind\n",
        "        del data\n",
        "        \n",
        "        print('SVD')\n",
        "        self.embeddings, _, _ = svds(co_occur, self.embed_size)\n",
        "        del co_occur\n",
        "\n",
        "        print('Training completed')\n",
        "\n",
        "    # Method to prepare the mappings of Co-Occurrence matrix\n",
        "    def prepare_map(self, sentences):\n",
        "        map = {}\n",
        "\n",
        "        for sent in sentences:\n",
        "            sent = list(filter(lambda i: i in self.vocab.word2ind, sent))\n",
        "            for i, word in enumerate(sent):\n",
        "                if word not in map:\n",
        "                    map[word] = {}\n",
        "\n",
        "                for j in range(i+1, min(i+1+self.context_size, len(sent))):\n",
        "                    if sent[j] not in map:\n",
        "                        map[sent[j]] = {}\n",
        "\n",
        "                    if sent[j] not in map[word]:\n",
        "                        map[word][sent[j]] = 0\n",
        "                    map[word][sent[j]] += 1\n",
        "\n",
        "                    if word not in map[sent[j]]:\n",
        "                        map[sent[j]][word] = 0\n",
        "                    map[sent[j]][word] += 1\n",
        "\n",
        "        return map\n",
        "\n",
        "    # Getter method - return embedding of the input word\n",
        "    def get_embedding(self, word):\n",
        "        return self.embeddings[self.vocab.get_ind(word)]\n",
        "\n",
        "    # Getter method - return top n similar words of input word\n",
        "    def similar_words(self, word, top):\n",
        "        word_embed = self.embeddings[self.vocab.get_ind(word)]\n",
        "        cos_dist = 1 - np.dot(self.embeddings, word_embed)/(np.linalg.norm(self.embeddings, axis=1)*np.linalg.norm(word_embed))\n",
        "\n",
        "        sorted_inds = np.argsort(cos_dist)[:top]\n",
        "        return [(self.vocab.get_word(ind), 1-cos_dist[ind]) for ind in sorted_inds]"
      ],
      "execution_count": 4,
      "outputs": []
    },
    {
      "cell_type": "code",
      "metadata": {
        "id": "Si0t240cOzIo",
        "colab": {
          "base_uri": "https://localhost:8080/"
        },
        "outputId": "f0e532ad-70a9-4843-86ba-6f59f3453ce9"
      },
      "source": [
        "model = WordEmbedModel(context_size=3, embed_size=50, vocab=Vocab)\n",
        "model.train(sentences)"
      ],
      "execution_count": null,
      "outputs": [
        {
          "output_type": "stream",
          "name": "stdout",
          "text": [
            "Starting training\n",
            "Mapping completed\n",
            "Preparing co-ocuurence matrix indices\n",
            "Preparing co-occurence matrix\n",
            "SVD\n",
            "Training completed\n"
          ]
        }
      ]
    },
    {
      "cell_type": "code",
      "metadata": {
        "id": "qu7I-_Tip-a6"
      },
      "source": [
        "torch.save(model, model_path)\n",
        "torch.save(Vocab, vocab_path)\n",
        "np.save(embed_path, model.embeddings)"
      ],
      "execution_count": null,
      "outputs": []
    },
    {
      "cell_type": "code",
      "metadata": {
        "colab": {
          "base_uri": "https://localhost:8080/"
        },
        "id": "KzYMLz8s6VAz",
        "outputId": "785794c7-c138-453f-922d-a173d1983504"
      },
      "source": [
        "print(\"Top 10 similar words obtained by Word Embedding Model for the word camera are,\", model.similar_words('camera', 10))"
      ],
      "execution_count": null,
      "outputs": [
        {
          "output_type": "stream",
          "name": "stdout",
          "text": [
            "Top 10 similar words obtained by Word Embedding Model for the word camera are, [('camera', 0.9999999999999998), ('cam', 0.9371049060515714), ('psu', 0.921371199543117), ('projector', 0.9202497342633565), ('detector', 0.9163765162074519), ('hu', 0.914285371611892), ('headset', 0.9119752431055327), ('router', 0.8968091957484156), ('player', 0.8877756433196792), ('radio', 0.8823712782394749)]\n"
          ]
        }
      ]
    },
    {
      "cell_type": "markdown",
      "metadata": {
        "id": "cBjrKbiIJ4ih"
      },
      "source": [
        "# Generating t-SNE plot for keywords"
      ]
    },
    {
      "cell_type": "code",
      "metadata": {
        "id": "Cbx4yquhQo-r"
      },
      "source": [
        "# Method to create embedding clusters list and word clusters list\n",
        "def get_clusters(keywords, model):\n",
        "    embedding_clusters = []\n",
        "    word_clusters = []\n",
        "\n",
        "    for word in keywords:\n",
        "        embeddings = []\n",
        "        words = []\n",
        "\n",
        "        for similar_word, _ in model.similar_words(word, 11):\n",
        "            words.append(similar_word)\n",
        "            embeddings.append(model.get_embedding(similar_word))\n",
        "        \n",
        "        embedding_clusters.append(embeddings)\n",
        "        word_clusters.append(words)\n",
        "    \n",
        "    embedding_clusters = np.array(embedding_clusters)\n",
        "\n",
        "    return embedding_clusters, word_clusters\n",
        "\n",
        "# Function to plot the t-SNE plot given the clusters information\n",
        "def tsne_plot_similar_words(title, labels, embedding_clusters, word_clusters, filename=None):\n",
        "    plt.figure(figsize=(16, 9))\n",
        "    colors = cm.rainbow(np.linspace(0, 1, len(labels)))\n",
        "    for label, embeddings, words, color in zip(labels, embedding_clusters, word_clusters, colors):\n",
        "        x = embeddings[1:, 0]\n",
        "        y = embeddings[1:, 1]\n",
        "\n",
        "        if words[0] != 'they':\n",
        "            plt.scatter(embeddings[0, 0], embeddings[0, 1], c=\"black\", alpha=0.7)\n",
        "            plt.annotate(words[0], alpha=1, xy=(embeddings[0, 0], embeddings[0, 1]), xytext=(5, 2),\n",
        "                        textcoords='offset points', ha='right', va='bottom', size=8)\n",
        "\n",
        "        plt.scatter(x, y, c=color, alpha=0.7, label=label)\n",
        "        for i, word in enumerate(words[1:]):\n",
        "            plt.annotate(word, alpha=0.5, xy=(x[i], y[i]), xytext=(5, 2),\n",
        "                         textcoords='offset points', ha='right', va='bottom', size=8)\n",
        "    plt.legend(loc=4)\n",
        "    plt.title(title)\n",
        "    plt.grid(True)\n",
        "    if filename:\n",
        "        plt.savefig(filename, format='png', dpi=150, bbox_inches='tight')\n",
        "    plt.show()\n",
        "\n",
        "# Function to plot the t-SNE plot\n",
        "def plot_tsne(keywords, model):\n",
        "    embed_clusters, word_clusters = get_clusters(keywords, model)\n",
        "\n",
        "    n, m, k = embed_clusters.shape\n",
        "    tsne_model_2d = TSNE(perplexity=10, n_components=2, init='pca', n_iter=10000, random_state=16)\n",
        "    embeddings_2d = np.array(tsne_model_2d.fit_transform(embed_clusters.reshape(n * m, k))).reshape(n, m, 2)\n",
        "\n",
        "    tsne_plot_similar_words('Similar words from Electronics Review Dataset', keywords, embeddings_2d, word_clusters, plot_path)"
      ],
      "execution_count": 7,
      "outputs": []
    },
    {
      "cell_type": "code",
      "metadata": {
        "colab": {
          "base_uri": "https://localhost:8080/",
          "height": 657
        },
        "id": "DMi2QaqD-Kgb",
        "outputId": "a61fdc64-a26d-4253-959e-e0c11ca34765"
      },
      "source": [
        "keywords = ['him', 'computer', 'good', 'sleep', 'amazon']\n",
        "\n",
        "plot_tsne(keywords, model)"
      ],
      "execution_count": 13,
      "outputs": [
        {
          "output_type": "stream",
          "name": "stderr",
          "text": [
            "*c* argument looks like a single numeric RGB or RGBA sequence, which should be avoided as value-mapping will have precedence in case its length matches with *x* & *y*.  Please use the *color* keyword-argument or provide a 2-D array with a single row if you intend to specify the same RGB or RGBA value for all points.\n",
            "*c* argument looks like a single numeric RGB or RGBA sequence, which should be avoided as value-mapping will have precedence in case its length matches with *x* & *y*.  Please use the *color* keyword-argument or provide a 2-D array with a single row if you intend to specify the same RGB or RGBA value for all points.\n",
            "*c* argument looks like a single numeric RGB or RGBA sequence, which should be avoided as value-mapping will have precedence in case its length matches with *x* & *y*.  Please use the *color* keyword-argument or provide a 2-D array with a single row if you intend to specify the same RGB or RGBA value for all points.\n",
            "*c* argument looks like a single numeric RGB or RGBA sequence, which should be avoided as value-mapping will have precedence in case its length matches with *x* & *y*.  Please use the *color* keyword-argument or provide a 2-D array with a single row if you intend to specify the same RGB or RGBA value for all points.\n",
            "*c* argument looks like a single numeric RGB or RGBA sequence, which should be avoided as value-mapping will have precedence in case its length matches with *x* & *y*.  Please use the *color* keyword-argument or provide a 2-D array with a single row if you intend to specify the same RGB or RGBA value for all points.\n"
          ]
        },
        {
          "output_type": "display_data",
          "data": {
            "image/png": "[encoded data removed]",
            "text/plain": [
              "<Figure size 1152x648 with 1 Axes>"
            ]
          },
          "metadata": {
            "needs_background": "light"
          }
        }
      ]
    },
    {
      "cell_type": "code",
      "metadata": {
        "id": "fgJgK3DiHlem"
      },
      "source": [
        ""
      ],
      "execution_count": null,
      "outputs": []
    }
  ]
}